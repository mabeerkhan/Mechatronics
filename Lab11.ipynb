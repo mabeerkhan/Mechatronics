{
 "cells": [
  {
   "cell_type": "code",
   "execution_count": null,
   "id": "ffa35405",
   "metadata": {},
   "outputs": [
    {
     "name": "stdout",
     "output_type": "stream",
     "text": [
      "Serial Device Connected\n"
     ]
    }
   ],
   "source": [
    "from cvzone.SerialModule import SerialObject\n",
    "from time import sleep\n",
    "\n",
    "arduino = SerialObject(\"COM5\")\n",
    "\n",
    "while True:\n",
    "    arduino.sendData([1])\n",
    "    sleep(3)\n",
    "    arduino.sendData([0])\n",
    "    sleep(1)"
   ]
  },
  {
   "cell_type": "code",
   "execution_count": 1,
   "id": "a6e1fa37",
   "metadata": {},
   "outputs": [],
   "source": [
    "import cv2"
   ]
  },
  {
   "cell_type": "code",
   "execution_count": null,
   "id": "6b1459b7",
   "metadata": {},
   "outputs": [],
   "source": []
  }
 ],
 "metadata": {
  "kernelspec": {
   "display_name": "Python 3 (ipykernel)",
   "language": "python",
   "name": "python3"
  },
  "language_info": {
   "codemirror_mode": {
    "name": "ipython",
    "version": 3
   },
   "file_extension": ".py",
   "mimetype": "text/x-python",
   "name": "python",
   "nbconvert_exporter": "python",
   "pygments_lexer": "ipython3",
   "version": "3.10.9"
  }
 },
 "nbformat": 4,
 "nbformat_minor": 5
}
